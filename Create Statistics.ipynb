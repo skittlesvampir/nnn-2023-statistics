{
 "cells": [
  {
   "cell_type": "markdown",
   "id": "9199599f-0144-416c-8c10-6aabafb6c134",
   "metadata": {},
   "source": [
    "# nnn-2023-statics\n",
    "From downloading, parsing, labeling, training, classifying and plotting — this file contains everything to create those lovely statistics you see everyday on r/NoNutNovember. The individual functions have been thouroughly documented to make them as easy to use as possible. If you have any questions regarding this notebook, either file an issue on Github or send an email to nonutnovember@ist-toll.xyz.\n",
    "\n",
    "You can edit cells by (double) clicking them, run them with the \"play\" icon in the toolbar or using \"Ctrl-Enter\". Command output will be displayed below the according cell."
   ]
  },
  {
   "cell_type": "markdown",
   "id": "0bdcd11c-92f3-434a-9b44-195e842937da",
   "metadata": {},
   "source": [
    "## Table of Contents\n",
    "1. [Requirements](#Requirements)\n",
    "2. [Setup](#Setup)\n",
    "3. [Retrieve Comments and create dataset](#Retrieve-Comments-and-create-dataset)\n",
    "4. [Generate Labeled Data](#Generate-Labeled-Data)\n",
    "5. [Create Naive Bayes Dictionary](#Create-Naive-Bayes-Dictionary)\n",
    "6. [Naive Bayes Classification](#Naive-Bayes-Classification)\n",
    "7. [Naive Bayes Playground](#Naive-Bayes-Playground)\n",
    "8. [Benchmark](#Benchmark)\n",
    "9. [Evaluate a given Day](#Evaluate-a-given-Day)\n",
    "10. [Plot the results](#Plot-the-Results)"
   ]
  },
  {
   "cell_type": "markdown",
   "id": "1ff80389-4e3c-44bb-affb-670fe1aafd3a",
   "metadata": {},
   "source": [
    "## Requirements\n",
    "To run, this project needs the following dependencies:\n",
    "- Python 3\n",
    "- Jupyter Notebook\n",
    "- PRAW\n",
    "- Matplotlib\n",
    "- Numpy"
   ]
  },
  {
   "cell_type": "markdown",
   "id": "66ead916-a7de-455d-876e-e306c92a5f87",
   "metadata": {},
   "source": [
    "## Setup\n",
    "This code needs to be executed everytime before doing anything else. If another cell throws an error about missing definitions, make sure you've executed this cell before anything else."
   ]
  },
  {
   "cell_type": "code",
   "execution_count": 4,
   "id": "90f62669-3479-45e2-899c-63a7e3077e92",
   "metadata": {},
   "outputs": [],
   "source": [
    "import json\n",
    "import random\n",
    "import csv\n",
    "import os\n",
    "import datetime\n",
    "import string\n",
    "import math\n",
    "\n",
    "DAY = 1 # update this with yesterday's date\n",
    "YEAR = 2023 # update this with the current year\n",
    "\n",
    "with open(\"naive_bayes.json\", \"r\") as naive_bayes_file:\n",
    "    naive_bayes_dict = json.load(naive_bayes_file)\n",
    "\n",
    "def split_sentence(sentence):\n",
    "    words = sentence.split()\n",
    "    sentence = [word.strip(string.punctuation) for word in words]\n",
    "    sentence = [word.lower() for word in sentence]\n",
    "    return sentence"
   ]
  },
  {
   "cell_type": "markdown",
   "id": "a101e7cf-28fe-47b4-a602-8672cdaf6930",
   "metadata": {},
   "source": [
    "In the next cell, you need to fill in your Reddit API credentials. The key can be created at [https://old.reddit.com/prefs/apps/](https://old.reddit.com/prefs/apps/), select \"script\" as Key Type.\n",
    "\n",
    "Please keep in mind, that because of the recent changes to the API terms of use, you can now only make [100 requests per minute](https://www.reddit.com/r/redditdev/comments/14nbw6g/updated_rate_limits_going_into_effect_over_the/) with having to pay. PRAW will take care of this automatically, but please be patient when pulling the data takes several minutes."
   ]
  },
  {
   "cell_type": "code",
   "execution_count": 75,
   "id": "9f626db1-bd29-4235-a7e9-257e7cc58d2e",
   "metadata": {},
   "outputs": [],
   "source": [
    "API_CLIENT_ID = \"your_api_client_id_here\"\n",
    "API_CLIENT_SECRET = \"your_api_client_secret_her\""
   ]
  },
  {
   "cell_type": "markdown",
   "id": "c8ba5d55-b8bf-49e1-becd-75a9a17d7bcf",
   "metadata": {},
   "source": [
    "## Retrieve Comments and create dataset\n",
    "At the beginning of everyday, retrieve the comments of the now closed rollcall from the previous day. Adjust the parameters in the second cell to reflect \"yesterdays\" date. The resulting unlabeled datasets will be availabel under datasets/YEAR/DAY/USERNAME-day-DAY.csv"
   ]
  },
  {
   "cell_type": "code",
   "execution_count": 71,
   "id": "3ae4a51e-cb0a-4135-ad91-20d4d2fe3cc7",
   "metadata": {},
   "outputs": [],
   "source": [
    "import praw\n",
    "from praw.models import MoreComments\n",
    "\n",
    "def retrieve_rollcall(day, year):\n",
    "    reddit = praw.Reddit(\n",
    "        client_id=API_CLIENT_ID,\n",
    "        client_secret=API_CLIENT_SECRET,\n",
    "        user_agent=\"Python script\",\n",
    "    )\n",
    "    reddit.read_only = True\n",
    "    subreddit = reddit.subreddit(\"nonutnovember\")\n",
    "\n",
    "    date_min = int(datetime.datetime(year, 11, day, 0, 0).strftime(\"%s\"))\n",
    "    date_max = int(datetime.datetime(year, 11, day, 23, 59).strftime(\"%s\"))\n",
    "\n",
    "    if year == 2022 or year == 2023:\n",
    "        flair_name = \"\\\"🗳️ Official Roll-Call\\\"\"\n",
    "    else:\n",
    "        print(\"unsupported year!\")\n",
    "        return\n",
    "\n",
    "    for submission in subreddit.search(f\"flair_name: {flair_name}\", sort=\"new\"):\n",
    "        if date_min <= submission.created_utc <= date_max:\n",
    "            print(submission.title)\n",
    "            requested_rollcall_post = submission\n",
    "\n",
    "    all_comments = []\n",
    "    \n",
    "    requested_rollcall_post.comments.replace_more(limit=None)\n",
    "    for comment in requested_rollcall_post.comments:\n",
    "        if isinstance(comment, MoreComments):\n",
    "            continue\n",
    "        if comment.author == None:\n",
    "            continue\n",
    "\n",
    "        all_comments.append({\n",
    "                                \"username\": comment.author.name,\n",
    "                                \"text\": comment.body\n",
    "                            })\n",
    "\n",
    "    all_comments_json = json.dumps(all_comments)\n",
    "\n",
    "    with open(f\"comments/{year}/{day}.json\", \"w\") as file:\n",
    "        file.write(all_comments_json)\n",
    "\n",
    "def create_unmarked_datasets(volunteers, day, year):\n",
    "    with open(f\"comments/{year}/{day}.json\", \"r\") as file:\n",
    "        comments = json.load(file)\n",
    "    \n",
    "    random.shuffle(comments)\n",
    "\n",
    "    for (i, username) in enumerate(volunteers):\n",
    "        directory = f\"datasets/{year}/{day}\"\n",
    "        if not os.path.exists(directory):\n",
    "            os.makedirs(directory)\n",
    "\n",
    "        filename = directory + f\"/{username}-day-{day}.csv\"\n",
    "        with open(filename, \"w\") as csvfile:\n",
    "            filewriter = csv.writer(csvfile, delimiter=\",\",\n",
    "                                    quotechar=\"|\", quoting=csv.QUOTE_MINIMAL)\n",
    "            for i in range(i*DATASET_SIZE,(i+1)*DATASET_SIZE):\n",
    "                filewriter.writerow([comments[i][\"text\"], \"unknown\"])"
   ]
  },
  {
   "cell_type": "code",
   "execution_count": 73,
   "id": "b14480d3-9149-4864-bded-a940ff205718",
   "metadata": {},
   "outputs": [
    {
     "name": "stdout",
     "output_type": "stream",
     "text": [
      "Retrieving rollcall comments...\n",
      "NOV01: DAY ONE ROLL-CALL & YEEVAL COMING BACK FROM THE DEAD\n",
      "Done!\n"
     ]
    }
   ],
   "source": [
    "print(\"Retrieving rollcall comments...\")\n",
    "\n",
    "retrieve_rollcall(DAY, YEAR)\n",
    "\n",
    "DATASET_SIZE = 100\n",
    "VOLUNTEERS = [\"FraglicherKopierer\", \"Filip\", \"Abby\", \"bliwolf\"]\n",
    "create_unmarked_datasets(VOLUNTEERS, DAY, YEAR)\n",
    "\n",
    "print(\"Done!\")"
   ]
  },
  {
   "cell_type": "markdown",
   "id": "b2d64753-a8fc-42e1-8639-1389e7780884",
   "metadata": {},
   "source": [
    "Label the datasets before continuing with the next step."
   ]
  },
  {
   "cell_type": "markdown",
   "id": "fb28b508-10bb-4ea3-a872-1d2c5d292e1f",
   "metadata": {},
   "source": [
    "## Generate Labeled Data"
   ]
  },
  {
   "cell_type": "code",
   "execution_count": 5,
   "id": "b1e0030d-d20f-4a28-944c-71dabb3da279",
   "metadata": {},
   "outputs": [],
   "source": [
    "from glob import glob\n",
    "\n",
    "def generate_labeled_json():\n",
    "    files = [y for x in os.walk(\"datasets\") for y in glob(os.path.join(x[0], \"*.csv\"))]\n",
    "\n",
    "    labeled_comments = []\n",
    "\n",
    "    for file in files:\n",
    "        with open(file, \"r\") as csv_file:\n",
    "            csv_reader = csv.reader(csv_file, delimiter=\",\", quotechar=\"|\", quoting=csv.QUOTE_MINIMAL)\n",
    "\n",
    "            for row in csv_reader:\n",
    "                if row[1] != \"n\" and row[1] != \"y\":\n",
    "                    continue\n",
    "\n",
    "                is_positive = row[1] == \"y\"\n",
    "\n",
    "                labeled_comments.append({\n",
    "                                     \"text\": row[0],\n",
    "                                     \"positive\": is_positive,\n",
    "                                 })\n",
    "\n",
    "    with open(\"labeled_comments.json\", \"w\") as labeled_comments_file:\n",
    "        labeled_comments_file.write(json.dumps(labeled_comments, indent=4))\n",
    "\n",
    "def add_sentence_to_frequency_dict(sentence, frequency_dict, is_positive):\n",
    "    if is_positive:\n",
    "        key = \"positive_words\"\n",
    "        other_key = \"negative_words\"\n",
    "    else:\n",
    "        key = \"negative_words\"\n",
    "        other_key = \"positive_words\"\n",
    "\n",
    "    for word in sentence:\n",
    "        if word not in frequency_dict[key]:\n",
    "            frequency_dict[key][word] = 0\n",
    "        if word not in frequency_dict[other_key]:\n",
    "            frequency_dict[other_key][word] = 0\n",
    "\n",
    "        frequency_dict[key][word] += 1\n",
    "\n",
    "    return frequency_dict\n",
    "\n",
    "def create_frequency_dict():\n",
    "    frequency_dict = {\n",
    "        \"positive_count\": 0,\n",
    "        \"negative_count\": 0,\n",
    "        \"positive_words\": {},\n",
    "        \"negative_words\": {},\n",
    "    }\n",
    "    \n",
    "    with open(\"labeled_comments.json\", \"r\") as labels:\n",
    "        labels_json = json.loads(labels.read())\n",
    "\n",
    "    for line in labels_json:\n",
    "        sentence = split_sentence(line[\"text\"])\n",
    "\n",
    "        frequency_dict = add_sentence_to_frequency_dict(sentence, frequency_dict, line[\"positive\"])\n",
    "\n",
    "        if line[\"positive\"]:\n",
    "            frequency_dict[\"positive_count\"] += len(sentence)\n",
    "        else:\n",
    "            frequency_dict[\"negative_count\"] += len(sentence)\n",
    "\n",
    "    frequency_dict[\"positive_words\"] = sorted(frequency_dict[\"positive_words\"].items(), key=lambda k:k [1], reverse=True)\n",
    "    frequency_dict[\"negative_words\"] = sorted(frequency_dict[\"negative_words\"].items(), key=lambda k:k [1], reverse=True)\n",
    "\n",
    "    with open(\"vocabulary.json\", \"w\") as vocabulary:\n",
    "        vocabulary.write(json.dumps(frequency_dict, indent=4))"
   ]
  },
  {
   "cell_type": "code",
   "execution_count": 6,
   "id": "54a4be4a-51c5-4788-9c85-95d0597e9ade",
   "metadata": {},
   "outputs": [],
   "source": [
    "generate_labeled_json()\n",
    "create_frequency_dict()"
   ]
  },
  {
   "cell_type": "markdown",
   "id": "e7a100ca-61d6-4486-a93a-742b3651cb32",
   "metadata": {},
   "source": [
    "## Create Naive Bayes Dictionary\n",
    "When using Naive Bayes, the training data set will be split into it's individual words. The positive and negative frequency of each word will be counted in a dictionary. These frequencies will then be turned into lamdba values and the sum of a sentence's lambda values will create its score.\n",
    "\n",
    "The formular for a word's lambda value is:\n",
    "$$\n",
    "\\lambda(word)=log(\\frac{P(word|pos)}{P(word|neg)})\n",
    "$$\n",
    "\n",
    "The formular for log prior (bias) is:\n",
    "$$\n",
    "log_prior = log(\\frac{P(pos)}{P(neg)})\n",
    "$$\n",
    "\n",
    "I can really recommend the [Supervised ML & Sentiment Analysis Coursera Cours](https://www.coursera.org/learn/classification-vector-spaces-in-nlp/lecture/QYcqq/supervised-ml-sentiment-analysis), which can be viewed for free."
   ]
  },
  {
   "cell_type": "code",
   "execution_count": 7,
   "id": "7faefb4a-721b-4200-bc6c-f2368c70fe92",
   "metadata": {},
   "outputs": [],
   "source": [
    "with open(\"vocabulary.json\", \"r\") as vocabulary:\n",
    "    word_counts = json.loads(vocabulary.read())\n",
    "\n",
    "naive_bayes_dict = {\n",
    "    \"prior_ratio\": word_counts[\"positive_count\"] / word_counts[\"negative_count\"],\n",
    "    \"log_prior\": math.log(word_counts[\"positive_count\"] / word_counts[\"negative_count\"]),\n",
    "    \"positive_probabilities\": {},\n",
    "    \"negative_probabilities\": {},\n",
    "    \"lambda\": {},\n",
    "}\n",
    "\n",
    "positive_count = word_counts[\"positive_count\"]\n",
    "positive_count_unique = len(word_counts[\"positive_words\"])\n",
    "for (word, count) in word_counts[\"positive_words\"]:\n",
    "    naive_bayes_dict[\"positive_probabilities\"][word] = (count + 1) / (positive_count + positive_count_unique)\n",
    "\n",
    "negative_count = word_counts[\"negative_count\"]\n",
    "negative_count_unique = len(word_counts[\"positive_words\"])\n",
    "for (word, count) in word_counts[\"negative_words\"]:\n",
    "    naive_bayes_dict[\"negative_probabilities\"][word] = (count + 1) / (negative_count + negative_count_unique)\n",
    "\n",
    "for word in naive_bayes_dict[\"positive_probabilities\"]:\n",
    "    positive_probability = naive_bayes_dict[\"positive_probabilities\"][word]\n",
    "    negative_probability = naive_bayes_dict[\"negative_probabilities\"][word]\n",
    "\n",
    "    naive_bayes_dict[\"lambda\"][word] = math.log(positive_probability / negative_probability)\n",
    "\n",
    "with open(\"naive_bayes.json\", \"w\") as naive_bayes_file:\n",
    "    naive_bayes_file.write(json.dumps(naive_bayes_dict, indent=4))"
   ]
  },
  {
   "cell_type": "markdown",
   "id": "5481ca47-e051-472a-a1c5-f5a1761c9674",
   "metadata": {},
   "source": [
    "## Naive Bayes Classification\n",
    "\n",
    "The formular for a whole sentence is:\n",
    "$$\n",
    "log(\\frac{P(pos)}{P(neg)}) + \\sum_{i=1}^{m} \\lambda(word_i)\n",
    "$$\n",
    "\n",
    "A positive value means a positive sentiment (the user is \"still in\"), a negative value means a negative sentiment (the user is \"out\").\n",
    "\n",
    "This threshold (0) could be adjusted generate a dataset with the more unsure dataset entries."
   ]
  },
  {
   "cell_type": "code",
   "execution_count": 8,
   "id": "fd6e33c1-8d85-4ff9-bb13-c382dea4601b",
   "metadata": {},
   "outputs": [],
   "source": [
    "def classify_sentence(sentence, naive_bayes_dict):\n",
    "    sum = naive_bayes_dict[\"log_prior\"]\n",
    "\n",
    "    for word in sentence:\n",
    "        if word not in naive_bayes_dict[\"positive_probabilities\"]:\n",
    "            continue\n",
    "        \n",
    "        # use log likelyhood\n",
    "        sum += naive_bayes_dict[\"lambda\"][word]\n",
    "\n",
    "    if sum >= 0:\n",
    "        return True\n",
    "\n",
    "    return False\n",
    "\n",
    "def test_against_labeled_dataset(test=[True, False]):\n",
    "    with open(\"naive_bayes.json\", \"r\") as naive_bayes_file:\n",
    "        naive_bayes_dict = json.loads(naive_bayes_file.read())\n",
    "\n",
    "    with open(\"testset.json\", \"r\") as labeled_file:\n",
    "        labeled_comments = json.loads(labeled_file.read())\n",
    "\n",
    "    total = 0\n",
    "    correct = 0\n",
    "\n",
    "    for comment in labeled_comments:\n",
    "        if comment[\"positive\"] not in test:\n",
    "            continue\n",
    "\n",
    "        total += 1\n",
    "        \n",
    "        sentence = split_sentence(comment[\"text\"])\n",
    "\n",
    "        if classify_sentence(sentence, naive_bayes_dict) == comment[\"positive\"]:\n",
    "            correct += 1\n",
    "\n",
    "    return correct / total\n",
    "\n",
    "# get the upper and lower error margins for comments that say \"i'm out\"\n",
    "def get_error_margins_for_out():\n",
    "    positives_correct = test_against_labeled_dataset([True])\n",
    "    positives_false = 1 - positives_correct # comments that were labeled as \"in\" but are actually \"out\" (upper bound)\n",
    "\n",
    "    negatives_correct = test_against_labeled_dataset([False])\n",
    "    negatives_false = 1 - negatives_correct # comments that were labeled as \"out\" but are actualyl \"in\" (lower bound)\n",
    "\n",
    "    return (negatives_false, positives_false)"
   ]
  },
  {
   "cell_type": "markdown",
   "id": "75832623-9769-43df-af1c-e7d3abc5c5e1",
   "metadata": {},
   "source": [
    "## Naive Bayes Playground\n",
    "\n",
    "Try some values to see if they are classified correctly:"
   ]
  },
  {
   "cell_type": "code",
   "execution_count": 9,
   "id": "6467f7f4-e371-4ade-9c8e-72fed40c5bbd",
   "metadata": {},
   "outputs": [
    {
     "name": "stdin",
     "output_type": "stream",
     "text": [
      " The challeng is so hard rn, but I think i got it. o7\n"
     ]
    },
    {
     "name": "stdout",
     "output_type": "stream",
     "text": [
      "The classifier said: \u001b[32m\"The user is still in\"\u001b[0m\n"
     ]
    }
   ],
   "source": [
    "if classify_sentence(split_sentence(input()), naive_bayes_dict):\n",
    "    print(\"The classifier said: \\x1b[32m\\\"The user is still in\\\"\\x1b[0m\")\n",
    "else:\n",
    "    print(\"The classifier said: \\x1b[31m\\\"The user is out.\\\"\\x1b[0m\")"
   ]
  },
  {
   "cell_type": "markdown",
   "id": "a6fb3abc-5802-4df3-b55e-4e62adef480a",
   "metadata": {},
   "source": [
    "## Benchmark\n",
    "\n",
    "Compare the classification results against the labeled dataset to find out how accurate the classifier is. Values over 90% are desirable."
   ]
  },
  {
   "cell_type": "code",
   "execution_count": 10,
   "id": "17dbe47f-ad28-4ef2-b48e-fe055b5d69c0",
   "metadata": {},
   "outputs": [
    {
     "name": "stdout",
     "output_type": "stream",
     "text": [
      "The classifier is 99.78% correct for \"in\".\n",
      "The classifier is 94.29% correct for \"out\".\n",
      "The classifier is 99.72% correct in total.\n"
     ]
    }
   ],
   "source": [
    "accuracy = test_against_labeled_dataset(test=[True])\n",
    "accuracy_percent = '%.2f'%(accuracy * 100)\n",
    "print(f\"The classifier is {accuracy_percent}% correct for \\\"in\\\".\")\n",
    "\n",
    "    \n",
    "accuracy = test_against_labeled_dataset(test=[False])\n",
    "accuracy_percent = '%.2f'%(accuracy * 100)\n",
    "print(f\"The classifier is {accuracy_percent}% correct for \\\"out\\\".\")\n",
    "\n",
    "accuracy = test_against_labeled_dataset(test=[True, False])\n",
    "accuracy_percent = '%.2f'%(accuracy * 100)\n",
    "print(f\"The classifier is {accuracy_percent}% correct in total.\")"
   ]
  },
  {
   "cell_type": "markdown",
   "id": "112759d7-c394-41fd-a985-bba3d8f7e461",
   "metadata": {},
   "source": [
    "## Evaluate a given Day\n",
    "Run the classifier against all comments from a given day and find out how many people commented that they are \"out\"."
   ]
  },
  {
   "cell_type": "code",
   "execution_count": 11,
   "id": "07fe9373-376b-4594-858a-c4dcee5fb548",
   "metadata": {},
   "outputs": [],
   "source": [
    "def get_outs_at_day(year, day):\n",
    "    if day == 30 and year == 2022: # last day has a few more false negatives, I counted this value manually\n",
    "        return 17\n",
    "    \n",
    "    with open(f\"comments/{year}/{day}.json\", \"r\") as file:\n",
    "        comments = json.load(file)\n",
    "\n",
    "    number_of_outs = 0\n",
    "    for comment in comments:\n",
    "        sentence = split_sentence(comment[\"text\"])\n",
    "        if not classify_sentence(sentence, naive_bayes_dict):\n",
    "            number_of_outs += 1\n",
    "\n",
    "    return number_of_outs"
   ]
  },
  {
   "cell_type": "markdown",
   "id": "7e7308cb-5dc7-4671-aa01-ed2abf0bb195",
   "metadata": {},
   "source": [
    "## Plot the Results\n",
    "Once all the results are in, create a beatiful graph using Matplotlib! I'm using bar charts to track the progress because each bar represents a single group of users.\n",
    "\n",
    "The benchmark is used to create error margins which will be included in the graph."
   ]
  },
  {
   "cell_type": "code",
   "execution_count": 12,
   "id": "830cb328-2c25-4599-9cf8-fd12b674de03",
   "metadata": {},
   "outputs": [],
   "source": [
    "(lower_error_margin, upper_error_margin) = get_error_margins_for_out()\n",
    "\n",
    "days_data = []\n",
    "yerr = [\n",
    "    [],\n",
    "    []\n",
    "]\n",
    "\n",
    "for day in range(1,DAY+1):\n",
    "    outs = get_outs_at_day(YEAR, DAY)\n",
    "    days_data.append(outs)\n",
    "    yerr[0].append(outs * (lower_error_margin))\n",
    "    yerr[1].append(outs * (upper_error_margin))\n",
    "            \n",
    "labels = range(1,DAY+1)"
   ]
  },
  {
   "cell_type": "code",
   "execution_count": 13,
   "id": "b7c851c4-91aa-4ca3-83d9-f737e9ce79f3",
   "metadata": {},
   "outputs": [
    {
     "data": {
      "image/png": "[encoded data removed]",
      "text/plain": [
       "<Figure size 1500x800 with 1 Axes>"
      ]
     },
     "metadata": {},
     "output_type": "display_data"
    }
   ],
   "source": [
    "import numpy as np\n",
    "import matplotlib.pyplot as plt\n",
    "import matplotlib.patheffects as pe\n",
    "\n",
    "plt.rcParams[\"font.family\"] = \"Carlito\"\n",
    "plt.rcParams[\"font.size\"] = 14\n",
    "\n",
    "f = plt.figure()\n",
    "f.set_figwidth(15)\n",
    "f.set_figheight(8)\n",
    "plt.margins(x=0.01, y=0.1)\n",
    "\n",
    "\n",
    "ax = plt.bar(labels, days_data, path_effects=[pe.Stroke(linewidth=1, foreground=\"black\")], color=\"#95d0fc\")\n",
    "plt.errorbar(labels, days_data, yerr=yerr, capsize=3, fmt=\"none\", ecolor=\"firebrick\")\n",
    "plt.xticks(np.arange(1, 31, 1.0))\n",
    "\n",
    "plt.xlabel(\"Day\")\n",
    "plt.ylabel(\"Number of people\")\n",
    "plt.title(f\"How many people admitted they were out ({YEAR})\")\n",
    "    \n",
    "plt.savefig(f\"graphs/{YEAR}-day-{DAY}-outs.jpeg\", dpi=300)\n",
    "plt.show()"
   ]
  }
 ],
 "metadata": {
  "kernelspec": {
   "display_name": "Python 3 (ipykernel)",
   "language": "python",
   "name": "python3"
  },
  "language_info": {
   "codemirror_mode": {
    "name": "ipython",
    "version": 3
   },
   "file_extension": ".py",
   "mimetype": "text/x-python",
   "name": "python",
   "nbconvert_exporter": "python",
   "pygments_lexer": "ipython3",
   "version": "3.11.5"
  }
 },
 "nbformat": 4,
 "nbformat_minor": 5
}
